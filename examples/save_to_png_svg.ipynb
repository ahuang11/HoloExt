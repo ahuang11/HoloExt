{
 "cells": [
  {
   "cell_type": "code",
   "execution_count": null,
   "metadata": {},
   "outputs": [],
   "source": [
    "import warnings\n",
    "import numpy as np\n",
    "import holoviews as hv\n",
    "from holoext.bokeh import Mod\n",
    "\n",
    "warnings.filterwarnings('ignore')  # bokeh deprecation warnings"
   ]
  },
  {
   "cell_type": "code",
   "execution_count": null,
   "metadata": {},
   "outputs": [],
   "source": [
    "x = np.array([8, 4, 2, 1])\n",
    "y1 = np.array([2, 4, 5, 9])\n",
    "y2 = np.array([3, 4, 1, 4])\n",
    "y3 = np.array([3, 2, 1, 6])\n",
    "\n",
    "curve1 = hv.Curve((x, y1), label='blue')\n",
    "curve2 = hv.Curve((x, y2), label='red')\n",
    "curve3 = hv.Curve((x, y3), label='orange')"
   ]
  },
  {
   "cell_type": "markdown",
   "metadata": {},
   "source": [
    "### Save the initial state into multiple svg with the input \"save\" as the folder name and the \"label\" of each individual plot as the actual filenames (unless there's just one subplot, then the input \"save\" is the filename)"
   ]
  },
  {
   "cell_type": "code",
   "execution_count": null,
   "metadata": {},
   "outputs": [],
   "source": [
    "Mod().apply(curve2 + curve3, save='output/save_to_png_svg', fmt='svg')"
   ]
  },
  {
   "cell_type": "markdown",
   "metadata": {},
   "source": [
    "### Save initial state if HoloMap or save plot into one png"
   ]
  },
  {
   "cell_type": "code",
   "execution_count": null,
   "metadata": {},
   "outputs": [],
   "source": [
    "Mod().apply(curve1, save='output/save_to_png_svg', fmt='png')"
   ]
  },
  {
   "cell_type": "markdown",
   "metadata": {},
   "source": [
    "### Save plot to html"
   ]
  },
  {
   "cell_type": "code",
   "execution_count": null,
   "metadata": {},
   "outputs": [],
   "source": [
    "Mod().apply(curve1, save='output/save_to_png_svg')"
   ]
  },
  {
   "cell_type": "markdown",
   "metadata": {
    "collapsed": true
   },
   "source": [
    "### Note if you get \"RuntimeError: Sub-model (id='eeb072c1-ec8b-4afe-baf1-786ac6347d5b', ...) of the root model Column(id='ef1f936d-a01e-404f-8260-8b61012bf62e', ...) is already owned by another document (Models must be owned by only a single document). This may indicate a usage error,\" try restarting the kernel and do not let the plot show in the notebook (e.g. saved = Mod().apply(curves, save='somename'))."
   ]
  }
 ],
 "metadata": {
  "kernelspec": {
   "display_name": "Python [default]",
   "language": "python",
   "name": "python3"
  },
  "language_info": {
   "codemirror_mode": {
    "name": "ipython",
    "version": 3
   },
   "file_extension": ".py",
   "mimetype": "text/x-python",
   "name": "python",
   "nbconvert_exporter": "python",
   "pygments_lexer": "ipython3",
   "version": "3.6.4"
  }
 },
 "nbformat": 4,
 "nbformat_minor": 2
}
