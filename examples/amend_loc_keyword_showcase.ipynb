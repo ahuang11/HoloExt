{
 "cells": [
  {
   "cell_type": "code",
   "execution_count": null,
   "metadata": {
    "collapsed": true
   },
   "outputs": [],
   "source": [
    "from holoext.bokeh import Mod"
   ]
  },
  {
   "cell_type": "code",
   "execution_count": null,
   "metadata": {
    "collapsed": true
   },
   "outputs": [],
   "source": [
    "VALID_LEGEND_LOCS = ('top_left', 'top_center', 'top_right',\n",
    "                     'center_left', 'center', 'center_right',\n",
    "                     'bottom_left', 'bottom_center', 'bottom_right')\n",
    "\n",
    "VALID_TOOLBAR_LOCS = ('above', 'below', 'right', 'left')"
   ]
  },
  {
   "cell_type": "code",
   "execution_count": null,
   "metadata": {},
   "outputs": [],
   "source": [
    "amend = Mod()._amend_loc_keyword\n",
    "\n",
    "amend('left_top')\n",
    "amend('above_center')\n",
    "amend('east_top')\n",
    "amend('center_west')\n",
    "amend('middle')\n",
    "amend('right_middle')\n",
    "amend('lower_left')\n",
    "amend('center_below')\n",
    "amend('right_below')\n",
    "amend('top', toolbar_io=True)\n",
    "amend('bottom', toolbar_io=True)\n",
    "amend('east', toolbar_io=True)\n",
    "amend('west', toolbar_io=True)"
   ]
  }
 ],
 "metadata": {
  "kernelspec": {
   "display_name": "Python 3",
   "language": "python",
   "name": "python3"
  },
  "language_info": {
   "codemirror_mode": {
    "name": "ipython",
    "version": 3
   },
   "file_extension": ".py",
   "mimetype": "text/x-python",
   "name": "python",
   "nbconvert_exporter": "python",
   "pygments_lexer": "ipython3",
   "version": "3.6.3"
  }
 },
 "nbformat": 4,
 "nbformat_minor": 2
}
