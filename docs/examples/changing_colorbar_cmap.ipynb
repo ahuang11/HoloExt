{
 "cells": [
  {
   "cell_type": "markdown",
   "metadata": {},
   "source": [
    "### Changing Colorbar Cmap"
   ]
  },
  {
   "cell_type": "code",
   "execution_count": null,
   "metadata": {},
   "outputs": [],
   "source": [
    "from holoext.xbokeh import Mod\n",
    "import holoviews as hv\n",
    "import numpy as np\n",
    "import warnings\n",
    "\n",
    "warnings.filterwarnings('ignore')  # bokeh deprecation warnings\n",
    "hv.extension('bokeh')"
   ]
  },
  {
   "cell_type": "code",
   "execution_count": null,
   "metadata": {},
   "outputs": [],
   "source": [
    "# taken from http://holoviews.org/reference/elements/matplotlib/Points.html\n",
    "np.random.seed(10)\n",
    "data = np.random.rand(100, 4)\n",
    "\n",
    "points = hv.Points(data, vdims=['z_dim'])\n",
    "plot_kwargs = dict(\n",
    "    color_index=2,\n",
    "    size_index=2,\n",
    "    scaling_factor=50\n",
    ")  # insert plot kwargs directly into Mod()"
   ]
  },
  {
   "cell_type": "markdown",
   "metadata": {},
   "source": [
    "### Align colorbar with labels"
   ]
  },
  {
   "cell_type": "code",
   "execution_count": null,
   "metadata": {},
   "outputs": [],
   "source": [
    "Mod(\n",
    "    colorbar_n=5,  # number of colors\n",
    "    **plot_kwargs\n",
    ").apply(\n",
    "    # keyword 'z_dim' should be replaced with your actual dimension name\n",
    "    points.redim.range(z_dim=(0, 1))  # adjust range to fit 0, 1\n",
    ")"
   ]
  },
  {
   "cell_type": "markdown",
   "metadata": {},
   "source": [
    "### Change colormap and make it continuous"
   ]
  },
  {
   "cell_type": "code",
   "execution_count": null,
   "metadata": {},
   "outputs": [],
   "source": [
    "Mod(\n",
    "    colorbar_n=256,  # continuous\n",
    "    colorbar_cmap='inferno_r',  # colormap name\n",
    "    **plot_kwargs\n",
    ").apply(points)"
   ]
  },
  {
   "cell_type": "markdown",
   "metadata": {},
   "source": [
    "### Use a colormap from NCL http://www.ncl.ucar.edu/Document/Graphics/color_table_gallery.shtml"
   ]
  },
  {
   "cell_type": "code",
   "execution_count": null,
   "metadata": {},
   "outputs": [],
   "source": [
    "Mod(\n",
    "    colorbar_cmap='radar',  # insert name of NCL cmap\n",
    "    colorbar_n=15,  # match number of colors of the cmap\n",
    "    **plot_kwargs\n",
    ").apply(points)"
   ]
  },
  {
   "cell_type": "markdown",
   "metadata": {},
   "source": [
    "### Colorbar title"
   ]
  },
  {
   "cell_type": "code",
   "execution_count": null,
   "metadata": {},
   "outputs": [],
   "source": [
    "Mod(\n",
    "    colorbar_title='CBAR',\n",
    "    **plot_kwargs\n",
    ").apply(points)"
   ]
  },
  {
   "cell_type": "markdown",
   "metadata": {},
   "source": [
    "### Colorbar string shortcut"
   ]
  },
  {
   "cell_type": "code",
   "execution_count": null,
   "metadata": {},
   "outputs": [],
   "source": [
    "Mod(\n",
    "    # reverse, 7 colors, start at 50%, stop at 70% of cmap\n",
    "    colorbar_cmap='RdBu_r_n=7_start=.5_stop=0.7',\n",
    "    **plot_kwargs\n",
    ").apply(points)"
   ]
  },
  {
   "cell_type": "code",
   "execution_count": null,
   "metadata": {},
   "outputs": [],
   "source": [
    "Mod(\n",
    "    # another method without equal signs\n",
    "    # 3 colors, start at 10%, stop at 45% of cmap\n",
    "    colorbar_cmap='RdBu_n2_r_start0.1_stop.45',\n",
    "    **plot_kwargs\n",
    ").apply(points)"
   ]
  }
 ],
 "metadata": {
  "kernelspec": {
   "display_name": "Python 3",
   "language": "python",
   "name": "python3"
  },
  "language_info": {
   "codemirror_mode": {
    "name": "ipython",
    "version": 3
   },
   "file_extension": ".py",
   "mimetype": "text/x-python",
   "name": "python",
   "nbconvert_exporter": "python",
   "pygments_lexer": "ipython3",
   "version": "3.6.3"
  }
 },
 "nbformat": 4,
 "nbformat_minor": 2
}
