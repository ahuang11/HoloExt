{
 "cells": [
  {
   "cell_type": "markdown",
   "metadata": {},
   "source": [
    "### Legend Options"
   ]
  },
  {
   "cell_type": "code",
   "execution_count": null,
   "metadata": {},
   "outputs": [],
   "source": [
    "import warnings\n",
    "import numpy as np\n",
    "import holoviews as hv\n",
    "from holoext.xbokeh import Mod\n",
    "\n",
    "warnings.filterwarnings('ignore')  # bokeh deprecation warnings\n",
    "hv.extension('bokeh')"
   ]
  },
  {
   "cell_type": "code",
   "execution_count": null,
   "metadata": {},
   "outputs": [],
   "source": [
    "x = np.array([8, 4, 2, 1])\n",
    "y1 = np.array([2, 4, 5, 9])\n",
    "y2 = np.array([3, 4, 1, 4])\n",
    "\n",
    "curve1 = hv.Curve((x, y1), label='blue')\n",
    "curve2 = hv.Curve((x, y2), label='red')\n",
    "curves = curve1 * curve2"
   ]
  },
  {
   "cell_type": "markdown",
   "metadata": {},
   "source": [
    "### Change the orientation and location of the legend"
   ]
  },
  {
   "cell_type": "code",
   "execution_count": null,
   "metadata": {},
   "outputs": [],
   "source": [
    "Mod(\n",
    "    curves,\n",
    "    legend_orientation='vertical',\n",
    "    legend_position='center bottom',  # autocorrects to valid keyword\n",
    ").apply(curves)"
   ]
  },
  {
   "cell_type": "markdown",
   "metadata": {},
   "source": [
    "### Change the location of the legend using an alias"
   ]
  },
  {
   "cell_type": "code",
   "execution_count": null,
   "metadata": {},
   "outputs": [],
   "source": [
    "Mod(\n",
    "    curves,\n",
    "    legend_location='top center',  # autocorrects to valid keyword\n",
    ").apply(curves)"
   ]
  },
  {
   "cell_type": "markdown",
   "metadata": {},
   "source": [
    "### Change the background and border alpha (opacity)"
   ]
  },
  {
   "cell_type": "code",
   "execution_count": null,
   "metadata": {},
   "outputs": [],
   "source": [
    "Mod(\n",
    "    curves,\n",
    "    legend_background_fill_alpha=1,\n",
    "    legend_border_line_alpha=1,\n",
    ").apply(curves)"
   ]
  },
  {
   "cell_type": "markdown",
   "metadata": {},
   "source": [
    "### Change the labels and glypths spacing and width"
   ]
  },
  {
   "cell_type": "code",
   "execution_count": null,
   "metadata": {},
   "outputs": [],
   "source": [
    "Mod(\n",
    "    curves,\n",
    "    legend_label_standoff=20,  # space between label and glyph\n",
    "    legend_glyph_width=5,  # width of the glypth\n",
    "    legend_spacing=100,  # space between each legend item\n",
    ").apply(curves)"
   ]
  }
 ],
 "metadata": {
  "kernelspec": {
   "display_name": "Python 3",
   "language": "python",
   "name": "python3"
  },
  "language_info": {
   "codemirror_mode": {
    "name": "ipython",
    "version": 3
   },
   "file_extension": ".py",
   "mimetype": "text/x-python",
   "name": "python",
   "nbconvert_exporter": "python",
   "pygments_lexer": "ipython3",
   "version": "3.6.4"
  }
 },
 "nbformat": 4,
 "nbformat_minor": 2
}
