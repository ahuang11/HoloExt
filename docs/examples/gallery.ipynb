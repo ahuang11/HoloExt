{
 "cells": [
  {
   "cell_type": "markdown",
   "metadata": {},
   "source": [
    "### Gallery"
   ]
  },
  {
   "cell_type": "code",
   "execution_count": null,
   "metadata": {},
   "outputs": [],
   "source": [
    "from holoext.xbokeh import Mod\n",
    "import numpy as np\n",
    "import pandas as pd\n",
    "import holoviews as hv\n",
    "import warnings\n",
    "\n",
    "warnings.filterwarnings('ignore')  # bokeh deprecation warnings\n",
    "hv.extension('bokeh')"
   ]
  },
  {
   "cell_type": "code",
   "execution_count": null,
   "metadata": {},
   "outputs": [],
   "source": [
    "DATA_URL_FMT = (\n",
    "    'http://mesonet.agron.iastate.edu/'\n",
    "    'cgi-bin/request/daily.py?'\n",
    "    'network=IL_ASOS&stations={0}&'\n",
    "    'year1=2014&month1=1&day1=1&year2=2018&month2=1&day2=1'\n",
    ")\n",
    "STATIONS = ['CMI', 'DEC', 'MDW', 'ORD']"
   ]
  },
  {
   "cell_type": "markdown",
   "metadata": {},
   "source": [
    "#### Download and process data from Illinois' stations (Champaign, Decatur, Midway, O'Hare)."
   ]
  },
  {
   "cell_type": "code",
   "execution_count": null,
   "metadata": {},
   "outputs": [],
   "source": [
    "df_list = []\n",
    "for station in STATIONS:\n",
    "    data_url = DATA_URL_FMT.format(station)\n",
    "    df = pd.read_csv(data_url, index_col='day', parse_dates=True)\n",
    "    df.iloc[:, 1:] = df[df.columns[1:]].apply(\n",
    "        pd.to_numeric, errors='coerce').fillna(0)\n",
    "    df.index.name = 'date'\n",
    "    df['year'] = df.index.year\n",
    "    df['month'] = df.index.month\n",
    "    df['precip_cumsum_in'] = df['precip_in'].cumsum()\n",
    "    df = df.reset_index()  # 7-day rolling average\n",
    "    df_list.append(df)\n",
    "df = pd.concat(df_list)\n",
    "ds = hv.Dataset(df)\n",
    "df.columns"
   ]
  },
  {
   "cell_type": "markdown",
   "metadata": {},
   "source": [
    "### Overlay of Curves"
   ]
  },
  {
   "cell_type": "code",
   "execution_count": null,
   "metadata": {},
   "outputs": [],
   "source": [
    "curve_list = []\n",
    "for station in STATIONS:\n",
    "    curve = hv.Curve(ds.select(station=station), ['date'], 'precip_cumsum_in', label=station)\n",
    "    curve = curve.opts(style=dict(line_alpha=0.75))  # style the curves\n",
    "    curve_list.append(curve)\n",
    "curves_overlay = hv.Overlay(curve_list)\n",
    "\n",
    "save_fp = 'html_output/gallery_station_precip'\n",
    "Mod(\n",
    "    xlabel='Date',\n",
    "    ylabel='Cumulative Precip [in]',\n",
    "    tools=['ypan', 'ywheel_zoom', 'save', 'reset']\n",
    ").apply(curves_overlay, save=save_fp)"
   ]
  },
  {
   "cell_type": "markdown",
   "metadata": {},
   "source": [
    "### Layout of HeatMaps"
   ]
  },
  {
   "cell_type": "code",
   "execution_count": null,
   "metadata": {},
   "outputs": [],
   "source": [
    "# Automatic activation of colorbar and ranges\n",
    "max_hmap = hv.HeatMap(\n",
    "    ds.select(station='CMI'),\n",
    "    ['year', 'month'],\n",
    "    'max_temp_f',\n",
    "    label='CMI Max Temp [F]'\n",
    ")\n",
    "\n",
    "min_hmap = hv.HeatMap(\n",
    "    ds.select(station='CMI'),\n",
    "    ['year', 'month'],\n",
    "    'min_temp_f',\n",
    "    label='CMI Min Temp [F]'\n",
    ")\n",
    "\n",
    "hmaps = max_hmap + min_hmap\n",
    "\n",
    "zlim_dict = {\n",
    "    'min_temp_f': (0, 80),\n",
    "    'max_temp_f': (20, 100)\n",
    "}\n",
    "\n",
    "save_fp = 'html_output/gallery_cmi_temp'\n",
    "Mod(\n",
    "    xlabel='Year',\n",
    "    ylabel='Month',\n",
    "    colorbar_n=8,\n",
    "    zlim=zlim_dict,\n",
    "    tools=['save', 'hover'],\n",
    ").apply(hmaps, save=save_fp)"
   ]
  },
  {
   "cell_type": "markdown",
   "metadata": {},
   "source": [
    "### HoloMap of Points"
   ]
  },
  {
   "cell_type": "code",
   "execution_count": null,
   "metadata": {},
   "outputs": [],
   "source": [
    "points = ds.to.points(['date', 'max_temp_f'], ['precip_in'], ['station']).opts(style={'Points': dict(alpha=0.35)})\n",
    "\n",
    "save_fp = 'html_output/gallery_station_temperature_and_precipitation'\n",
    "Mod(\n",
    "    tools=['hover', 'save', 'ypan', 'ywheel_zoom'],\n",
    "    title='Station Temperature and Precipitation',\n",
    "    ylabel='Max Temp [F]',\n",
    "    xlabel='Date',\n",
    "    num_xticks=15,\n",
    "    xrotation=35,\n",
    "    size_index=2,\n",
    "    color_index=2,\n",
    "    scaling_factor=25,\n",
    "    colorbar_n=5,\n",
    "    colorbar_lim=(0, 5),\n",
    "    colorbar_title='[in]'\n",
    ").apply(points, save=save_fp)"
   ]
  },
  {
   "cell_type": "markdown",
   "metadata": {},
   "source": [
    "### AdjointLayout of Scatter"
   ]
  },
  {
   "cell_type": "code",
   "execution_count": null,
   "metadata": {},
   "outputs": [],
   "source": [
    "scatter = ds.select(station='ORD').to.scatter(\n",
    "    'avg_wind_speed_kts',\n",
    "    'avg_wind_drct',\n",
    "    [], label='Station: ORD'\n",
    ")\n",
    "\n",
    "scatter_hists = scatter.hist(num_bins=5, dimension=['avg_wind_speed_kts','avg_wind_drct']).opts(\n",
    "    plot={'Scatter': dict(width=725, height=500)},  # TODO: find a way to automate this\n",
    "    style={'Scatter': dict(alpha=0.35, size=5),\n",
    "           'Histogram': dict(alpha=0.75, line_color=None)}\n",
    ").redim.label(\n",
    "    avg_wind_speed_kts='Wind Speed [kts]',\n",
    "    avg_wind_drct= 'Wind Dir. [deg]',\n",
    "    avg_wind_speed_kts_frequency='Freq.',\n",
    "    avg_wind_drct_frequency='Freq.'\n",
    ")\n",
    "\n",
    "save_fp = 'html_output/gallery_ord_wind_speed_wind_dir'\n",
    "Mod().apply(scatter_hists, save=save_fp)"
   ]
  },
  {
   "cell_type": "markdown",
   "metadata": {},
   "source": [
    "### GridMatrix of Bars"
   ]
  },
  {
   "cell_type": "code",
   "execution_count": null,
   "metadata": {
    "scrolled": false
   },
   "outputs": [],
   "source": [
    "def make_box(month, year):\n",
    "    sub_ds = ds.select(month=month, year=year)\n",
    "    text = hv.Text('CMI', 45, '{0:2d}/{1:s}'.format(\n",
    "        month, str(year)[2:])).opts(style=dict(text_alpha=0.5, text_font_size='12px'))\n",
    "    box = hv.BoxWhisker(sub_ds, 'station', 'max_rh')\n",
    "    return box * text\n",
    "\n",
    "boxes = {\n",
    "    (month, year): make_box(month, year)\n",
    "    for month in df['month'].unique()[2::4]  # to speed it up\n",
    "    for year in df['year'].unique()\n",
    "}\n",
    "\n",
    "gridmatrix = hv.GridMatrix(boxes)\n",
    "title = 'Max Relative Humidity Spread'\n",
    "save_fp = 'html_output/gallery_station_temperature_and_precipitation'\n",
    "Mod(\n",
    "    axiswise=False,\n",
    "    xlabel='Station',\n",
    "    ylabel='Max RH [%]',\n",
    "    autosize=True,\n",
    "    title_format=title,\n",
    "    label_scaler=0.6,\n",
    "    merge_tools=True,\n",
    "    tools=['save'],\n",
    "    logo=False,\n",
    "    plot_size=150  # width/height doesn't work in grid matrix\n",
    ").apply(gridmatrix, save_fp)"
   ]
  }
 ],
 "metadata": {
  "kernelspec": {
   "display_name": "Python 3",
   "language": "python",
   "name": "python3"
  },
  "language_info": {
   "codemirror_mode": {
    "name": "ipython",
    "version": 3
   },
   "file_extension": ".py",
   "mimetype": "text/x-python",
   "name": "python",
   "nbconvert_exporter": "python",
   "pygments_lexer": "ipython3",
   "version": "3.6.4"
  }
 },
 "nbformat": 4,
 "nbformat_minor": 2
}
