{
 "cells": [
  {
   "cell_type": "markdown",
   "metadata": {},
   "source": [
    "### Quick Start"
   ]
  },
  {
   "cell_type": "markdown",
   "metadata": {},
   "source": [
    "#### To use the HoloViews Extension Mod:\n",
    "```from holoext.bokeh import Mod```"
   ]
  },
  {
   "cell_type": "code",
   "execution_count": null,
   "metadata": {
    "collapsed": true
   },
   "outputs": [],
   "source": [
    "from holoext.xbokeh import Mod\n",
    "import pandas as pd\n",
    "import holoviews as hv\n",
    "import warnings\n",
    "\n",
    "warnings.filterwarnings('ignore')  # bokeh deprecation warnings\n",
    "hv.extension('bokeh')"
   ]
  },
  {
   "cell_type": "code",
   "execution_count": null,
   "metadata": {
    "collapsed": true
   },
   "outputs": [],
   "source": [
    "sample_data_url = (\n",
    "    'http://mesonet.agron.iastate.edu/'\n",
    "    'cgi-bin/request/daily.py?'\n",
    "    'network=IL_ASOS&stations=CMI&'\n",
    "    'year1=2016&month1=1&day1=1&year2=2018&month2=1&day2=1'\n",
    ")\n",
    "\n",
    "df = pd.read_csv(sample_data_url, index_col='day', parse_dates=True)\n",
    "df = df.rolling(7).mean().reset_index()  # 7-day rolling average"
   ]
  },
  {
   "cell_type": "markdown",
   "metadata": {},
   "source": [
    "#### Do your plotting as usual in Holoviews."
   ]
  },
  {
   "cell_type": "code",
   "execution_count": null,
   "metadata": {
    "collapsed": true
   },
   "outputs": [],
   "source": [
    "curves = hv.Curve(df, 'day', 'min_temp_f', label='Max Temp', group='KCMI') * \\\n",
    "         hv.Curve(df, 'day', 'max_temp_f', label='Min Temp', group='KCMI')\n",
    "curves  # curve without mod"
   ]
  },
  {
   "cell_type": "markdown",
   "metadata": {},
   "source": [
    "#### Then apply the mod!\n",
    "This automatically increases figure size, applies a minimalistic look, and adds the hover tool, albeit hidden in the toolbar.\n",
    "\n",
    "\n",
    "However, these mods are not fixed in stone; you can easily adjust it:<br />\n",
    "`Mod(width=300, height=300, tools='default')`\n",
    "\n",
    "If you would like to show the hover tool in the toolbar, it's easily done too:<br />\n",
    "`Mod(show_hover=True)`"
   ]
  },
  {
   "cell_type": "code",
   "execution_count": null,
   "metadata": {
    "collapsed": true
   },
   "outputs": [],
   "source": [
    "Mod().apply(curves)"
   ]
  },
  {
   "cell_type": "markdown",
   "metadata": {},
   "source": [
    "####  Apply more settings easily and save to .html by passing in any string argument to .apply()"
   ]
  },
  {
   "cell_type": "code",
   "execution_count": null,
   "metadata": {
    "collapsed": true
   },
   "outputs": [],
   "source": [
    "mod_curves = Mod(\n",
    "    xlabel='Date', ylabel='Temperature [F]',\n",
    "    tools=['xpan', 'xwheel_zoom', 'save', 'reset', 'hover']\n",
    ").apply(curves, save='html_output/kcmi_2016_2017_temps')\n",
    "mod_curves"
   ]
  },
  {
   "cell_type": "markdown",
   "metadata": {
    "collapsed": true
   },
   "source": [
    "#### That's all for the quick start; check out the other examples for more customizability!"
   ]
  }
 ],
 "metadata": {
  "kernelspec": {
   "display_name": "Python 3",
   "language": "python",
   "name": "python3"
  },
  "language_info": {
   "codemirror_mode": {
    "name": "ipython",
    "version": 3
   },
   "file_extension": ".py",
   "mimetype": "text/x-python",
   "name": "python",
   "nbconvert_exporter": "python",
   "pygments_lexer": "ipython3",
   "version": "3.6.3"
  }
 },
 "nbformat": 4,
 "nbformat_minor": 2
}
